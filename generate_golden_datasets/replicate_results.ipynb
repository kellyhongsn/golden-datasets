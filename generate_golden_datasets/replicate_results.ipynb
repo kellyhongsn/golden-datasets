{
 "cells": [
  {
   "cell_type": "markdown",
   "metadata": {},
   "source": [
    "# Golden Datasets"
   ]
  },
  {
   "cell_type": "markdown",
   "metadata": {},
   "source": [
    "## 1. Setup"
   ]
  },
  {
   "cell_type": "markdown",
   "metadata": {},
   "source": [
    "### 1.1 Install & Import"
   ]
  },
  {
   "cell_type": "code",
   "execution_count": null,
   "metadata": {},
   "outputs": [],
   "source": [
    "!pip install -r requirements.txt"
   ]
  },
  {
   "cell_type": "code",
   "execution_count": 32,
   "metadata": {},
   "outputs": [],
   "source": [
    "import chromadb\n",
    "import pandas as pd\n",
    "import os\n",
    "from dotenv import load_dotenv\n",
    "from tqdm import tqdm\n",
    "import json\n",
    "import matplotlib.pyplot as plt\n",
    "import datasets\n",
    "from sentence_transformers import SentenceTransformer, util\n",
    "from multiprocessing import cpu_count\n",
    "from concurrent.futures import ThreadPoolExecutor\n",
    "import threading\n",
    "from typing import List\n",
    "import numpy as np\n",
    "import requests\n",
    "import tiktoken\n",
    "from voyageai import Client as VoyageClient\n",
    "from openai import OpenAI as OpenAIClient\n",
    "import torch\n",
    "from anthropic import Anthropic as AnthropicClient\n",
    "from llm_calls import generate_query, generate_query_with_example\n",
    "from utils import *\n",
    "from embedding_funcs import *\n",
    "from chroma_funcs import *\n",
    "from evaluation_funcs import *"
   ]
  },
  {
   "cell_type": "markdown",
   "metadata": {},
   "source": [
    "### 1.2 Load API Keys"
   ]
  },
  {
   "cell_type": "code",
   "execution_count": null,
   "metadata": {},
   "outputs": [],
   "source": [
    "# Chroma Cloud\n",
    "CHROMA_TENANT = \"YOUR CHROMA TENANT ID\"\n",
    "X_CHROMA_TOKEN = \"YOUR CHROMA API KEY\"\n",
    "\n",
    "# Embedding Model\n",
    "OPENAI_API_KEY = \"YOUR OPENAI API KEY\"\n",
    "\n",
    "# LLM\n",
    "CLAUDE_API_KEY = \"YOUR CLAUDE API KEY\""
   ]
  },
  {
   "cell_type": "markdown",
   "metadata": {},
   "source": [
    "### 1.3 Set Clients"
   ]
  },
  {
   "cell_type": "code",
   "execution_count": null,
   "metadata": {},
   "outputs": [],
   "source": [
    "chroma_client = chromadb.HttpClient(\n",
    "  ssl=True,\n",
    "  host='api.trychroma.com',\n",
    "  tenant=CHROMA_TENANT,\n",
    "  database='golden-datasets-replication',\n",
    "  headers={\n",
    "    'x-chroma-token': X_CHROMA_TOKEN\n",
    "  }\n",
    ")\n",
    "\n",
    "openai_client = OpenAIClient(api_key=OPENAI_API_KEY)\n",
    "claude_client = AnthropicClient(api_key=CLAUDE_API_KEY)"
   ]
  },
  {
   "cell_type": "markdown",
   "metadata": {},
   "source": [
    "### 1.4 Load Data"
   ]
  },
  {
   "cell_type": "code",
   "execution_count": 21,
   "metadata": {},
   "outputs": [],
   "source": [
    "wiki_queries = datasets.load_dataset(\"ellamind/wikipedia-2023-11-retrieval-multilingual-queries\", \"en\")[\"test\"].to_pandas()\n",
    "wiki_corpus = datasets.load_dataset(\"ellamind/wikipedia-2023-11-retrieval-multilingual-corpus\", \"en\")[\"test\"].to_pandas()\n",
    "wiki_qrels = datasets.load_dataset(\"ellamind/wikipedia-2023-11-retrieval-multilingual-qrels\", \"en\")[\"test\"].to_pandas()"
   ]
  },
  {
   "cell_type": "code",
   "execution_count": 22,
   "metadata": {},
   "outputs": [],
   "source": [
    "wiki_qrels = wiki_qrels[wiki_qrels[\"score\"] == 1.0]\n",
    "\n",
    "wiki_qrels = combined_datasets_dataframes(wiki_queries, wiki_corpus, wiki_qrels)"
   ]
  },
  {
   "cell_type": "markdown",
   "metadata": {},
   "source": [
    "## 2. Embed Corpus & Store in Chroma"
   ]
  },
  {
   "cell_type": "code",
   "execution_count": 25,
   "metadata": {},
   "outputs": [],
   "source": [
    "wiki_corpus_ids = wiki_corpus[\"_id\"].tolist()\n",
    "wiki_corpus_texts = wiki_corpus[\"text\"].tolist()"
   ]
  },
  {
   "cell_type": "code",
   "execution_count": null,
   "metadata": {},
   "outputs": [],
   "source": [
    "wiki_collection = chroma_client.get_or_create_collection(\n",
    "    name=\"wiki-text-embedding-3-small\",\n",
    "    metadata={\"hnsw:space\": \"cosine\"}\n",
    ")\n",
    "\n",
    "wiki_corpus_embeddings = openai_embed_in_batches(openai_client, wiki_corpus_texts, \"text-embedding-3-small\")\n",
    "\n",
    "collection_add_in_batches(wiki_collection, wiki_corpus_ids, wiki_corpus_texts, wiki_corpus_embeddings)\n",
    "\n",
    "wiki_corpus_lookup = {\n",
    "    id: {\n",
    "        \"text\": text,\n",
    "        \"embedding\": embedding\n",
    "    } for id, text, embedding in zip(wiki_corpus_ids, wiki_corpus_texts, wiki_corpus_embeddings)\n",
    "}"
   ]
  },
  {
   "cell_type": "markdown",
   "metadata": {},
   "source": [
    "## 3. Simple Query Generation\n",
    "\n",
    "Demonstration that models have memorized public benchmarks"
   ]
  },
  {
   "cell_type": "code",
   "execution_count": null,
   "metadata": {},
   "outputs": [],
   "source": [
    "wiki_simple_generated_queries = []\n",
    "\n",
    "for _, row in tqdm(wiki_qrels.iterrows(), total=len(wiki_qrels), desc=\"Generating simple queries...\"):\n",
    "    corpus = row['corpus-text']\n",
    "    generated_query = generate_query(claude_client, corpus)\n",
    "    wiki_simple_generated_queries.append(generated_query)\n",
    "\n",
    "wiki_qrels[\"simple-generated-query-text\"] = wiki_simple_generated_queries"
   ]
  },
  {
   "cell_type": "code",
   "execution_count": null,
   "metadata": {},
   "outputs": [],
   "source": [
    "wiki_original_queries = wiki_qrels[\"query-text\"].tolist()\n",
    "\n",
    "wiki_original_query_embeddings = openai_embed_in_batches(openai_client, wiki_original_queries, \"text-embedding-3-small\")\n",
    "wiki_simple_generated_query_embeddings = openai_embed_in_batches(openai_client, wiki_simple_generated_queries, \"text-embedding-3-small\")\n",
    "\n",
    "wiki_original_query_embeddings_lookup = {\n",
    "    id: {\n",
    "        \"text\": text,\n",
    "        \"embedding\": embedding\n",
    "    } for id, text, embedding in zip(wiki_corpus_ids, wiki_corpus_texts, wiki_original_query_embeddings)\n",
    "}\n",
    "wiki_simple_generated_query_embeddings_lookup = {\n",
    "    id: {\n",
    "        \"text\": text,\n",
    "        \"embedding\": embedding\n",
    "    } for id, text, embedding in zip(wiki_corpus_ids, wiki_corpus_texts, wiki_simple_generated_query_embeddings)\n",
    "}"
   ]
  },
  {
   "cell_type": "code",
   "execution_count": null,
   "metadata": {},
   "outputs": [],
   "source": [
    "wiki_query_query_scores = score_query_query(wiki_qrels, wiki_original_query_embeddings_lookup, wiki_simple_generated_query_embeddings_lookup)\n",
    "wiki_query_query_scores.head()"
   ]
  },
  {
   "cell_type": "code",
   "execution_count": null,
   "metadata": {},
   "outputs": [],
   "source": [
    "plt.figure(figsize=(8, 5))\n",
    "\n",
    "plt.hist(wiki_query_query_scores[\"query-query-score\"], bins=30, alpha=0.5,  edgecolor='black', label=\"Score\", range=(0, 1), density=True)\n",
    "\n",
    "plt.xlabel(\"Cosine Similarity\")\n",
    "plt.ylabel(\"Normalized Frequency\")\n",
    "plt.title(\"text-embedding-3-small\")\n",
    "plt.legend()\n",
    "plt.grid(True)\n",
    "plt.show()"
   ]
  },
  {
   "cell_type": "code",
   "execution_count": null,
   "metadata": {},
   "outputs": [],
   "source": [
    "wiki_query_query_scores.sort_values(by=\"query-query-score\", ascending=False, inplace=True)\n",
    "\n",
    "for i, row in wiki_query_query_scores.head(10).iterrows():\n",
    "    print(f\"Score: {row['query-query-score']:.4f}\")\n",
    "    print(f\"Original Query: {row['query-text']}\")\n",
    "    print(f\"Generated Query: {row['simple-generated-query-text']}\")\n",
    "    print(\"-\" * 80)"
   ]
  },
  {
   "cell_type": "markdown",
   "metadata": {},
   "source": [
    "## 4. Distinct Query Generation"
   ]
  },
  {
   "cell_type": "code",
   "execution_count": null,
   "metadata": {},
   "outputs": [],
   "source": [
    "wiki_distinct_generated_queries = []\n",
    "\n",
    "for _, row in tqdm(wiki_qrels.iterrows(), total=len(wiki_qrels), desc=\"Generating distinct queries...\"):\n",
    "    query = row['query_text']\n",
    "    corpus = row['corpus_text']\n",
    "    generated_query = generate_query_with_example(claude_client, query, corpus)\n",
    "    wiki_distinct_generated_queries.append(generated_query)\n",
    "\n",
    "wiki_qrels[\"distinct-generated-query-text\"] = wiki_distinct_generated_queries"
   ]
  },
  {
   "cell_type": "code",
   "execution_count": null,
   "metadata": {},
   "outputs": [],
   "source": [
    "wiki_distinct_generated_query_embeddings = openai_embed_in_batches(openai_client, wiki_distinct_generated_queries, \"text-embedding-3-small\")\n",
    "\n",
    "wiki_distinct_generated_query_embeddings_lookup = {\n",
    "    id: {\n",
    "        \"text\": text,\n",
    "        \"embedding\": embedding\n",
    "    } for id, text, embedding in zip(wiki_corpus_ids, wiki_corpus_texts, wiki_distinct_generated_query_embeddings)\n",
    "}"
   ]
  },
  {
   "cell_type": "code",
   "execution_count": null,
   "metadata": {},
   "outputs": [],
   "source": [
    "k_values = [1, 3, 5, 10]\n",
    "\n",
    "wiki_distinct_gen_results = get_results(wiki_collection, wiki_distinct_generated_queries, wiki_corpus_ids, wiki_distinct_generated_query_embeddings)\n",
    "wiki_distinct_gen_metrics = evaluate(k_values, wiki_qrels, wiki_distinct_gen_results)\n",
    "\n",
    "wiki_original_results = get_results(wiki_collection, wiki_original_queries, wiki_corpus_ids, wiki_original_query_embeddings)\n",
    "wiki_original_metrics = evaluate(k_values, wiki_qrels, wiki_original_results)\n",
    "\n",
    "rows = []\n",
    "query_types = [\"Generated\", \"Original\"]\n",
    "metrics_data = [wiki_distinct_gen_metrics, wiki_original_metrics]\n",
    "\n",
    "for query_type, metrics in zip(query_types, metrics_data):\n",
    "    row_data = {\"Query Type\": query_type}\n",
    "    \n",
    "    # Extract all metrics at different k values\n",
    "    for metric_name, metric_values in metrics.items():\n",
    "        for k_metric, value in metric_values.items():\n",
    "            row_data[f\"{metric_name}@{k_metric.split('@')[1]}\"] = value\n",
    "    \n",
    "    rows.append(row_data)\n",
    "\n",
    "comparison_df = pd.DataFrame(rows)\n",
    "\n",
    "comparison_df"
   ]
  }
 ],
 "metadata": {
  "kernelspec": {
   "display_name": "Python 3",
   "language": "python",
   "name": "python3"
  },
  "language_info": {
   "codemirror_mode": {
    "name": "ipython",
    "version": 3
   },
   "file_extension": ".py",
   "mimetype": "text/x-python",
   "name": "python",
   "nbconvert_exporter": "python",
   "pygments_lexer": "ipython3",
   "version": "3.9.6"
  }
 },
 "nbformat": 4,
 "nbformat_minor": 2
}
